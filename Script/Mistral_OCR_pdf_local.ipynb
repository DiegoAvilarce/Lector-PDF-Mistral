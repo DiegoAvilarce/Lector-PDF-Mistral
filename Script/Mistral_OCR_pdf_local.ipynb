{
 "cells": [
  {
   "cell_type": "code",
   "execution_count": 1,
   "metadata": {},
   "outputs": [],
   "source": [
    "from mistralai import Mistral\n",
    "from dotenv import load_dotenv\n",
    "import datauri\n",
    "import os\n",
    "import logging\n",
    "import pandas as pd"
   ]
  },
  {
   "cell_type": "code",
   "execution_count": 2,
   "metadata": {},
   "outputs": [],
   "source": [
    "fecha_hoy = pd.Timestamp.now().strftime(\"%Y-%m-%d\")\n",
    "file_name_log = rf\"C:\\Users\\davila\\Documents\\Python Projects\\Lector PDF Mistral\\Log\\lectura_pdf {fecha_hoy}.log\" ## cambiar la ruta \n",
    "# Configurar logging para escribir en un archivo\n",
    "logging.basicConfig(\n",
    "    filename= file_name_log,\n",
    "    level=logging.INFO,\n",
    "    format=\"%(asctime)s - %(levelname)s - %(message)s\",\n",
    "    encoding=\"utf-8\"\n",
    ")\n"
   ]
  },
  {
   "cell_type": "code",
   "execution_count": 3,
   "metadata": {},
   "outputs": [
    {
     "data": {
      "text/plain": [
       "True"
      ]
     },
     "execution_count": 3,
     "metadata": {},
     "output_type": "execute_result"
    }
   ],
   "source": [
    "# Cargar las variables del archivo .env\n",
    "load_dotenv()"
   ]
  },
  {
   "cell_type": "code",
   "execution_count": 4,
   "metadata": {},
   "outputs": [],
   "source": [
    "api_key_mistral = os.getenv('MISTRAL_API_KEY')  # Reemplaza con tu clave API"
   ]
  },
  {
   "cell_type": "code",
   "execution_count": 5,
   "metadata": {},
   "outputs": [],
   "source": [
    "#Ejecutar el cliente de Mistral\n",
    "client = Mistral(api_key=api_key_mistral)"
   ]
  },
  {
   "cell_type": "code",
   "execution_count": 6,
   "metadata": {},
   "outputs": [],
   "source": [
    "def upload_pdf(filename):\n",
    "  \"\"\"\n",
    "  Funcion para subir un archivo PDF a Mistral y obtener una URL firmada.\n",
    "  \"\"\"\n",
    "  uploaded_pdf = client.files.upload(\n",
    "    file={\n",
    "      \"file_name\": filename,\n",
    "      \"content\": open(filename, \"rb\"),\n",
    "    },\n",
    "    purpose=\"ocr\"\n",
    "  )\n",
    "  logging.info(f\"Archivo {filename} subido correctamente.\")\n",
    "  # Obtener la URL firmada\n",
    "  signed_url = client.files.get_signed_url(file_id=uploaded_pdf.id)\n",
    "  return signed_url.url\n"
   ]
  },
  {
   "cell_type": "code",
   "execution_count": 7,
   "metadata": {},
   "outputs": [],
   "source": [
    "def check_pdf(filename):\n",
    "    \"\"\"\n",
    "    Funcion para verificar si un archivo PDF ya fue subido a Mistral.\n",
    "    \"\"\"\n",
    "    try:\n",
    "    # Verificar si el archivo ya fue subido\n",
    "        list_pdf = client.files.list()\n",
    "        list_filename_id_pdf = [ [file.filename,file.id]  for file in list_pdf.data]\n",
    "        list_filename_pdf = [file.filename for file in list_pdf.data]\n",
    "        \n",
    "        if filename in list_filename_pdf:\n",
    "            # encontrar el id del archivo\n",
    "            id_pdf = [file[1] for file in list_filename_id_pdf if file[0] == filename][0]\n",
    "            # Obtener la URL firmada\n",
    "            signed_url = client.files.get_signed_url(file_id=id_pdf)\n",
    "            logging.info(f\"El archivo {filename} ya fue subido a Mistral.\")\n",
    "            print(f\"El archivo {filename} ya fue subido a Mistral.\")\n",
    "            return signed_url.url\n",
    "        else:\n",
    "            logging.info(f\"El archivo {filename} no fue subido a Mistral.\")\n",
    "            print(f\"El archivo {filename} no está subido a Mistral.\")\n",
    "            return False\n",
    "    except Exception as e:\n",
    "        logging.error(f\"Error al verificar el archivo {filename}: {e}\")\n",
    "        print(f\"Error al verificar el archivo {filename}: {e}\")\n",
    "        return None"
   ]
  },
  {
   "cell_type": "code",
   "execution_count": 8,
   "metadata": {},
   "outputs": [],
   "source": [
    "def create_markdown_file(ocr_response, output_filename):\n",
    "  \"\"\"\n",
    "  Función para crear un archivo markdown a partir de la respuesta de OCR.\n",
    "  \"\"\"\n",
    "  with open(output_filename, \"wt\",encoding=\"utf-8\") as f:\n",
    "    for page in ocr_response.pages:\n",
    "      f.write(page.markdown)\n",
    "  logging.info(f\"Se ha generado el archivo markdown {output_filename} con éxito.\")\n",
    "  print(f\"Se ha generado el archivo markdown {output_filename} con éxito.\")"
   ]
  },
  {
   "cell_type": "code",
   "execution_count": 9,
   "metadata": {},
   "outputs": [],
   "source": [
    "def get_ocr_response(signed_url):\n",
    "  \"\"\"\n",
    "  Función para obtener la respuesta de OCR a partir de la URL firmada.\n",
    "  \"\"\"\n",
    "  try:\n",
    "    ocr_response = client.ocr.process(model=\"mistral-ocr-latest\",\n",
    "                       document={\n",
    "                          \"type\": \"document_url\",\n",
    "                          \"document_url\": signed_url,\n",
    "                        },\n",
    "                        include_image_base64=True\n",
    "                      )\n",
    "    return ocr_response\n",
    "  except Exception as e:\n",
    "    logging.error(f\"Error al procesar el OCR: {e}\")\n",
    "    print(f\"Error al procesar el OCR: {e}\")\n",
    "    return None"
   ]
  },
  {
   "cell_type": "code",
   "execution_count": 10,
   "metadata": {},
   "outputs": [],
   "source": [
    "input_file = r'C:\\Users\\davila\\Documents\\Python Projects\\Lector PDF Mistral\\Inputs\\MC0003272.pdf'\n",
    "name_input_file = os.path.basename(input_file)\n",
    "name_input_file_without_ext = os.path.splitext(name_input_file)[0]\n",
    "output_file = fr'C:\\Users\\davila\\Documents\\Python Projects\\Lector PDF Mistral\\Outputs\\Markdowns\\{name_input_file_without_ext}.md'"
   ]
  },
  {
   "cell_type": "code",
   "execution_count": 11,
   "metadata": {},
   "outputs": [
    {
     "name": "stdout",
     "output_type": "stream",
     "text": [
      "El archivo MC0003272.pdf ya fue subido a Mistral.\n"
     ]
    }
   ],
   "source": [
    "# Verificar si el archivo ya fue subido\n",
    "chequeo = check_pdf(name_input_file)"
   ]
  },
  {
   "cell_type": "code",
   "execution_count": 12,
   "metadata": {},
   "outputs": [],
   "source": [
    "if chequeo == False:\n",
    "    # Subir el archivo a Mistral\n",
    "    url = upload_pdf(input_file)\n",
    "    logging.info(f\"El archivo {name_input_file} fue subido a Mistral.\")\n",
    "    print(f\"El archivo {name_input_file} fue subido a Mistral.\")\n",
    "    # Realizar OCR en el archivo PDF   \n",
    "else:\n",
    "    logging.info(f\"El archivo {name_input_file} ya fue subido a Mistral.\") \n",
    "    url = upload_pdf(input_file)"
   ]
  },
  {
   "cell_type": "code",
   "execution_count": 13,
   "metadata": {},
   "outputs": [],
   "source": [
    "texto_plano = get_ocr_response(url)"
   ]
  },
  {
   "cell_type": "code",
   "execution_count": 14,
   "metadata": {},
   "outputs": [
    {
     "name": "stdout",
     "output_type": "stream",
     "text": [
      "Se ha generado el archivo markdown C:\\Users\\davila\\Documents\\Python Projects\\Lector PDF Mistral\\Outputs\\Markdowns\\MC0003272.md con éxito.\n"
     ]
    }
   ],
   "source": [
    "# convertir response a markdown\n",
    "create_markdown_file(texto_plano, output_file)"
   ]
  }
 ],
 "metadata": {
  "kernelspec": {
   "display_name": "Python 3",
   "language": "python",
   "name": "python3"
  },
  "language_info": {
   "codemirror_mode": {
    "name": "ipython",
    "version": 3
   },
   "file_extension": ".py",
   "mimetype": "text/x-python",
   "name": "python",
   "nbconvert_exporter": "python",
   "pygments_lexer": "ipython3",
   "version": "3.13.1"
  }
 },
 "nbformat": 4,
 "nbformat_minor": 2
}
